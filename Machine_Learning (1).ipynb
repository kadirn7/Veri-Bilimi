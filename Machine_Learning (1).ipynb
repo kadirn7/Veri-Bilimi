{
 "cells": [
  {
   "cell_type": "markdown",
   "id": "0b600a60",
   "metadata": {},
   "source": [
    "# Makine Öğrenmesi"
   ]
  },
  {
   "cell_type": "markdown",
   "id": "4936c568",
   "metadata": {},
   "source": [
    "- Chatbotlar ve kişisel asistanlar (doğal dil işleme vs.)\n",
    "- Facebook’a fotoğraf eklediğinde Facebook’un etiketleme önerisi (Arka tarafta bulunan fotoğrafları kullanarak Derin Öğrenme uygulaması)\n",
    "- Netflix, Amazon ve E-ticaret tavsiyeleri\n",
    "- Spam Engelleme çalışmaları (Sınıflandırmaya göre algoritma karar veriyor)\n",
    "- Cümle tamamlama ve Smile tamamlama\n",
    "- Sahtekarlık Önleme çalışmaları (Fraud Prevention)\n",
    "- Kredi Başvurusu Değerlendirme (Karar Destek Sistemleri)"
   ]
  },
  {
   "cell_type": "markdown",
   "id": "c6c35f58",
   "metadata": {},
   "source": [
    "<img src=\"ml_1.jpg\" style=\"widht:500px;height:300px\">"
   ]
  },
  {
   "cell_type": "markdown",
   "id": "26c2e344",
   "metadata": {},
   "source": [
    "<img src=\"ml_2.jpg\" style=\"widht:500px;height:300px\">"
   ]
  },
  {
   "cell_type": "markdown",
   "id": "c8a40cfe",
   "metadata": {},
   "source": [
    "**Bağımlı Değişken:** "
   ]
  },
  {
   "cell_type": "markdown",
   "id": "0eb02c30",
   "metadata": {},
   "source": [
    "**Bağımsız Değişken:** "
   ]
  },
  {
   "cell_type": "markdown",
   "id": "2e909139",
   "metadata": {},
   "source": [
    "## Öğrenme Türleri\n"
   ]
  },
  {
   "cell_type": "markdown",
   "id": "4125495b",
   "metadata": {},
   "source": [
    "### Gözetimli Öğrenme:\n",
    "Bağımlı ve bağımsız değişken bulunuyorsa, bağımsız değişkenler üzerinden model eğitilir ve bağımlı degişken tahmin ediliyorsa gözetimli öğrenme kullanılmıştır. Regresyon ve sınıflandırma bu öğrenme türüne örnektir."
   ]
  },
  {
   "cell_type": "markdown",
   "id": "e8b3f32e",
   "metadata": {},
   "source": [
    "**Regresyon:** Bağımlı değişken sayısal / sürekli bir değişken ise bu bir regresyon problemidir. Örn: Evin sahip olduğu özelliklere göre(yaş,konum,metrekare,oda sayısı, banyo sayısı vs.) satış fiyatını tahmin etme."
   ]
  },
  {
   "cell_type": "markdown",
   "id": "7bb369b8",
   "metadata": {},
   "source": [
    "**Sınıflandırma:**  Bağımlı değişken kategorik bir değişken ise bu bir sınıflandırma problemidir. Örn: Gelen bir mailin spam olup olmama durumu."
   ]
  },
  {
   "cell_type": "markdown",
   "id": "c5d683b6",
   "metadata": {},
   "source": [
    "### Gözetimsiz Öğrenme:\n",
    "Gözetimsiz öğrenmede çıktılar çalışmanın içinde bulunmaz. Gözlemlenen birimler benzer özelliklerine göre bir araya getirilir. Gözetimsiz öğrenme, etiketlenmemiş veri kümelerini analiz etmek ve kümelemek için yapay öğrenme algoritmalarını kullanır.\n",
    "Örn: Öneri motorları, müşteri kişilikleri "
   ]
  },
  {
   "cell_type": "markdown",
   "id": "c450bad7",
   "metadata": {},
   "source": [
    "<img src=\"ml_3.png\" style=\"widht:600px;height:400px\">"
   ]
  },
  {
   "cell_type": "markdown",
   "id": "4c1affa2",
   "metadata": {},
   "source": [
    "### Model Eğitmek - Test Etmek (Training - Testing)\n",
    "Veri setimizi ikiye ayırıyoruruz. Eğitim seti ve test seti olarak. Bu ayrımı %80 eğtim seti, %20 test seti olarak genelleyebiliriz. Train ve test etmekte amaç, eğitilecek modelin ilk defa karşılaşılan veriyi tahmin etme durumunun simüle edilmesidir. Model, train set ile eğitilerek bir genelleme yapar ve ilk defa karşılaştığı veriler için bir tahminde bulunur. \n",
    "\n",
    "**Overfitting - Underfitting:** Modelin **overfit** olması train verisi üzerinden bir genelleme yapmadığı ve veriyi ezberlediği anlamına gelir. Eğitilen verideki tahmin başarısı çok iyi olsada ilk defa karşılaştığı verilerde kötü sonuç verir. **Underfit** olma durumu ise modelin öğrenmeyi gerçelştirememesidir.\n",
    "\n",
    "<img src=\"ml_4.png\" style=\"widht:400px;height:300px\">"
   ]
  },
  {
   "cell_type": "markdown",
   "id": "ed1401f4",
   "metadata": {},
   "source": [
    "### Model Doğrulama (Model Validation) Yöntemleri\n",
    "Model başarısını değerlendirmeyi daha doğru yapmamızı sağlayan yöntemlerdir.\n",
    "**Holdout Yöntemi:**  Veri setini %80 — %20 olarak eğitim ve test seti olarak ayırıyoruz.\n",
    "\n",
    "<img src=\"ml_6.png\" style=\"widht:200px;height:200px\">\n",
    "\n",
    "**K-Katlı Çapraz Doğrulama (K Fold Cross Validation) Yöntemi:** Veri seti k adet parçaya ayrılır. Daha sonra belirlenen alt kümlerden birisi dışarıda bırakılır. Elde kalan diğer kümeler ile model oluşturulur ve model dışarıda bırakılan küme ile test edilir. Bu çalışma bütün parçalar için tekrar edilir.Elde edilen hataların ortalaması alındığında bu bizim validasyon/doğrulama (eğitim) hatası olur. Daha sonra çalışmanın en başında böldüğümüz test seti ile modelimizi test ederiz.\n",
    "\n",
    "<img src=\"ml_5.png\" style=\"widht:400px;height:300px\">\n",
    "**Leave One Out Yöntemi**\n",
    "\n",
    "**Bootstrap Yöntemi**"
   ]
  },
  {
   "cell_type": "markdown",
   "id": "bda88128",
   "metadata": {},
   "source": [
    "### Makine öğrenmesi modelleri "
   ]
  },
  {
   "cell_type": "code",
   "execution_count": null,
   "id": "50a11156",
   "metadata": {},
   "outputs": [],
   "source": []
  }
 ],
 "metadata": {
  "kernelspec": {
   "display_name": "Python 3 (ipykernel)",
   "language": "python",
   "name": "python3"
  },
  "language_info": {
   "codemirror_mode": {
    "name": "ipython",
    "version": 3
   },
   "file_extension": ".py",
   "mimetype": "text/x-python",
   "name": "python",
   "nbconvert_exporter": "python",
   "pygments_lexer": "ipython3",
   "version": "3.9.13"
  }
 },
 "nbformat": 4,
 "nbformat_minor": 5
}
