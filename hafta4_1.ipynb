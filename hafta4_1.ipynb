{
 "cells": [
  {
   "cell_type": "markdown",
   "id": "9092ce30",
   "metadata": {},
   "source": [
    "# List"
   ]
  },
  {
   "cell_type": "code",
   "execution_count": 10,
   "id": "e60acb8f",
   "metadata": {},
   "outputs": [
    {
     "data": {
      "text/plain": [
       "[5, 7, 3, 6, 18, 9]"
      ]
     },
     "execution_count": 10,
     "metadata": {},
     "output_type": "execute_result"
    }
   ],
   "source": [
    "my_list = [5,7,3,6,18,9]\n",
    "my_list"
   ]
  },
  {
   "cell_type": "code",
   "execution_count": 3,
   "id": "1393d187",
   "metadata": {},
   "outputs": [
    {
     "data": {
      "text/plain": [
       "list"
      ]
     },
     "execution_count": 3,
     "metadata": {},
     "output_type": "execute_result"
    }
   ],
   "source": [
    "type(my_list)"
   ]
  },
  {
   "cell_type": "code",
   "execution_count": 4,
   "id": "620b0e02",
   "metadata": {},
   "outputs": [
    {
     "data": {
      "text/plain": [
       "5"
      ]
     },
     "execution_count": 4,
     "metadata": {},
     "output_type": "execute_result"
    }
   ],
   "source": [
    "my_list[0]"
   ]
  },
  {
   "cell_type": "code",
   "execution_count": 5,
   "id": "9cfaeb09",
   "metadata": {},
   "outputs": [
    {
     "data": {
      "text/plain": [
       "7"
      ]
     },
     "execution_count": 5,
     "metadata": {},
     "output_type": "execute_result"
    }
   ],
   "source": [
    "my_list[1]"
   ]
  },
  {
   "cell_type": "code",
   "execution_count": 8,
   "id": "5e7a490b",
   "metadata": {},
   "outputs": [
    {
     "data": {
      "text/plain": [
       "3"
      ]
     },
     "execution_count": 8,
     "metadata": {},
     "output_type": "execute_result"
    }
   ],
   "source": [
    "### ikinci index deki elemanı bulalım\n",
    "my_list[2]"
   ]
  },
  {
   "cell_type": "code",
   "execution_count": 9,
   "id": "c7735fcc",
   "metadata": {},
   "outputs": [
    {
     "data": {
      "text/plain": [
       "9"
      ]
     },
     "execution_count": 9,
     "metadata": {},
     "output_type": "execute_result"
    }
   ],
   "source": [
    "###listedeki sonuncu elemanı bulalım\n",
    "my_list[-1]"
   ]
  },
  {
   "cell_type": "code",
   "execution_count": 9,
   "id": "cfe00814",
   "metadata": {},
   "outputs": [
    {
     "data": {
      "text/plain": [
       "[5, 7, 3, 6]"
      ]
     },
     "execution_count": 9,
     "metadata": {},
     "output_type": "execute_result"
    }
   ],
   "source": [
    "my_list[:4]"
   ]
  },
  {
   "cell_type": "code",
   "execution_count": 10,
   "id": "a9d27569",
   "metadata": {},
   "outputs": [
    {
     "data": {
      "text/plain": [
       "[3, 6, 18]"
      ]
     },
     "execution_count": 10,
     "metadata": {},
     "output_type": "execute_result"
    }
   ],
   "source": [
    "###2. index den 5. indexe kadar olan elemanları bulalım\n",
    "my_list[2:5]"
   ]
  },
  {
   "cell_type": "code",
   "execution_count": 14,
   "id": "343891d5",
   "metadata": {},
   "outputs": [
    {
     "data": {
      "text/plain": [
       "[7, 3, 6]"
      ]
     },
     "execution_count": 14,
     "metadata": {},
     "output_type": "execute_result"
    }
   ],
   "source": [
    "my_list[1:-2]"
   ]
  },
  {
   "cell_type": "code",
   "execution_count": 15,
   "id": "7c6268f1",
   "metadata": {},
   "outputs": [
    {
     "data": {
      "text/plain": [
       "[4, 9, 'Python', 5.7, 'Hi-Kod']"
      ]
     },
     "execution_count": 15,
     "metadata": {},
     "output_type": "execute_result"
    }
   ],
   "source": [
    "# listeler içinde farklı veri tipleri bulunabilir.\n",
    "new_list = [4,9,\"Python\",5.7,\"Hi-Kod\"]\n",
    "new_list"
   ]
  },
  {
   "cell_type": "code",
   "execution_count": 14,
   "id": "26e5fbb1",
   "metadata": {},
   "outputs": [
    {
     "data": {
      "text/plain": [
       "[5, 7, 'Merhaba', 6, 18, 9]"
      ]
     },
     "execution_count": 14,
     "metadata": {},
     "output_type": "execute_result"
    }
   ],
   "source": [
    "### 2. indexde bulunan elemanı Merhaba olarak değiştirelim.\n",
    "my_list[2] = \"Merhaba\"\n",
    "my_list"
   ]
  },
  {
   "cell_type": "code",
   "execution_count": 15,
   "id": "f944ecaa",
   "metadata": {},
   "outputs": [
    {
     "data": {
      "text/plain": [
       "[6, 'Elma', 5, [3, 'Armut', 1.2], [3.2, 8, 5]]"
      ]
     },
     "execution_count": 15,
     "metadata": {},
     "output_type": "execute_result"
    }
   ],
   "source": [
    "#Liste içinde liste bulunabilir.\n",
    "my_list2 = [6,\"Elma\",5,[3,\"Armut\",1.2],[3.2,8,5]]\n",
    "my_list2"
   ]
  },
  {
   "cell_type": "code",
   "execution_count": 21,
   "id": "0c3d5d86",
   "metadata": {},
   "outputs": [
    {
     "data": {
      "text/plain": [
       "['Hi-Kod', 'Veri', 'Bilimi', 'Atölyesi']"
      ]
     },
     "execution_count": 21,
     "metadata": {},
     "output_type": "execute_result"
    }
   ],
   "source": [
    "atolye = \"Hi-Kod Veri Bilimi Atölyesi\"\n",
    "atolye_list = atolye.split()\n",
    "atolye_list"
   ]
  },
  {
   "cell_type": "code",
   "execution_count": 34,
   "id": "55de0e33",
   "metadata": {},
   "outputs": [
    {
     "data": {
      "text/plain": [
       "list"
      ]
     },
     "execution_count": 34,
     "metadata": {},
     "output_type": "execute_result"
    }
   ],
   "source": [
    "type(atolye_list)"
   ]
  },
  {
   "cell_type": "code",
   "execution_count": 22,
   "id": "d225c3ed",
   "metadata": {},
   "outputs": [
    {
     "data": {
      "text/plain": [
       "'Hi-Kod'"
      ]
     },
     "execution_count": 22,
     "metadata": {},
     "output_type": "execute_result"
    }
   ],
   "source": [
    "atolye_list[0]"
   ]
  },
  {
   "cell_type": "code",
   "execution_count": 28,
   "id": "64b070fd",
   "metadata": {},
   "outputs": [
    {
     "data": {
      "text/plain": [
       "['elma', 'çilek', 'muz']"
      ]
     },
     "execution_count": 28,
     "metadata": {},
     "output_type": "execute_result"
    }
   ],
   "source": [
    "### split fonksiyonu kullanarak meyve isimlerini ayıralım\n",
    "meyveler = \"elma,çilek,muz\"\n",
    "meyveler.split(\",\")"
   ]
  },
  {
   "cell_type": "code",
   "execution_count": 29,
   "id": "77ffc4f8",
   "metadata": {},
   "outputs": [
    {
     "data": {
      "text/plain": [
       "['H', '-Kod Ver', ' B', 'l', 'm', ' Atölyes', '']"
      ]
     },
     "execution_count": 29,
     "metadata": {},
     "output_type": "execute_result"
    }
   ],
   "source": [
    "atolye = \"Hi-Kod Veri Bilimi Atölyesi\"\n",
    "atolye.split(\"i\")"
   ]
  },
  {
   "cell_type": "code",
   "execution_count": 24,
   "id": "e71a13f9",
   "metadata": {
    "scrolled": false
   },
   "outputs": [
    {
     "data": {
      "text/plain": [
       "5"
      ]
     },
     "execution_count": 24,
     "metadata": {},
     "output_type": "execute_result"
    }
   ],
   "source": [
    "len(new_list)"
   ]
  },
  {
   "cell_type": "code",
   "execution_count": 26,
   "id": "7fc19dbd",
   "metadata": {},
   "outputs": [
    {
     "data": {
      "text/plain": [
       "5"
      ]
     },
     "execution_count": 26,
     "metadata": {},
     "output_type": "execute_result"
    }
   ],
   "source": [
    "len(my_list2)"
   ]
  },
  {
   "cell_type": "code",
   "execution_count": 17,
   "id": "d33c8989",
   "metadata": {},
   "outputs": [
    {
     "data": {
      "text/plain": [
       "(3, 4, 9, 5)"
      ]
     },
     "execution_count": 17,
     "metadata": {},
     "output_type": "execute_result"
    }
   ],
   "source": [
    "sayilar = 3,4,9,5\n",
    "sayilar"
   ]
  },
  {
   "cell_type": "code",
   "execution_count": 18,
   "id": "e79d4784",
   "metadata": {},
   "outputs": [
    {
     "data": {
      "text/plain": [
       "tuple"
      ]
     },
     "execution_count": 18,
     "metadata": {},
     "output_type": "execute_result"
    }
   ],
   "source": [
    "type(sayilar)"
   ]
  },
  {
   "cell_type": "code",
   "execution_count": 32,
   "id": "42363363",
   "metadata": {},
   "outputs": [
    {
     "data": {
      "text/plain": [
       "[3, 4, 9, 5]"
      ]
     },
     "execution_count": 32,
     "metadata": {},
     "output_type": "execute_result"
    }
   ],
   "source": [
    "list(sayilar)"
   ]
  },
  {
   "cell_type": "code",
   "execution_count": 19,
   "id": "e058f2ec",
   "metadata": {},
   "outputs": [
    {
     "data": {
      "text/plain": [
       "[0, 1, 2, 3, 4, 5, 6, 7, 8, 9]"
      ]
     },
     "execution_count": 19,
     "metadata": {},
     "output_type": "execute_result"
    }
   ],
   "source": [
    "### 0'dan 9'a kadar olan sayıları liste içinde tutalım\n",
    "list(range(0,10))"
   ]
  },
  {
   "cell_type": "code",
   "execution_count": 21,
   "id": "a0abf3c7",
   "metadata": {},
   "outputs": [
    {
     "name": "stdout",
     "output_type": "stream",
     "text": [
      "elma\n",
      "muz\n",
      "çilek\n",
      "ayva\n",
      "üzüm\n"
     ]
    }
   ],
   "source": [
    "meyveler =[\"elma\",\"muz\",\"çilek\",\"ayva\",\"üzüm\"]\n",
    "for meyve in meyveler:\n",
    "    print(meyve)"
   ]
  },
  {
   "cell_type": "code",
   "execution_count": 69,
   "id": "670976cc",
   "metadata": {},
   "outputs": [
    {
     "name": "stdout",
     "output_type": "stream",
     "text": [
      "0\n",
      "1\n",
      "2\n",
      "3\n",
      "4\n"
     ]
    }
   ],
   "source": [
    "### 0'dan başlayıp listenin elemanı kadar sayıyı yazdıralım.\n",
    "for i in range(len(meyveler)):\n",
    "    print(i)"
   ]
  },
  {
   "cell_type": "code",
   "execution_count": 38,
   "id": "f1ec3369",
   "metadata": {},
   "outputs": [
    {
     "name": "stdout",
     "output_type": "stream",
     "text": [
      "0. indexte bulunan meyve: elma\n",
      "1. indexte bulunan meyve: muz\n",
      "2. indexte bulunan meyve: çilek\n",
      "3. indexte bulunan meyve: ayva\n",
      "4. indexte bulunan meyve: üzüm\n"
     ]
    }
   ],
   "source": [
    "### BERABER YAPALIM!!!!\n",
    "### for döngüsü kullanarak meyveleri ve bulundukları indexleri yazdıralım\n",
    "### 0. indexte bulunan meyve: elma\n",
    "index = 0 \n",
    "\n",
    "for meyve in meyveler:\n",
    "    print(\"{}. indexte bulunan meyve: {}\".format(index,meyve))\n",
    "    index += 1"
   ]
  },
  {
   "cell_type": "code",
   "execution_count": 36,
   "id": "0f5a0312",
   "metadata": {},
   "outputs": [
    {
     "name": "stdout",
     "output_type": "stream",
     "text": [
      "0. indexte bulunan meyve: elma\n",
      "1. indexte bulunan meyve: muz\n",
      "2. indexte bulunan meyve: çilek\n",
      "3. indexte bulunan meyve: ayva\n",
      "4. indexte bulunan meyve: üzüm\n"
     ]
    }
   ],
   "source": [
    "### BERABER YAPALIM!!!!\n",
    "\n",
    "for index in range(len(meyveler)):\n",
    "    print(\"{}. indexte bulunan meyve: {}\".format(index,meyveler[index]))"
   ]
  },
  {
   "cell_type": "code",
   "execution_count": 43,
   "id": "0225daf9",
   "metadata": {},
   "outputs": [
    {
     "data": {
      "text/plain": [
       "[6, 'Elma', 5, [3, 'Armut', 1.2], [3.2, 8, 5]]"
      ]
     },
     "execution_count": 43,
     "metadata": {},
     "output_type": "execute_result"
    }
   ],
   "source": [
    "my_list2"
   ]
  },
  {
   "cell_type": "code",
   "execution_count": 44,
   "id": "95a7a5cd",
   "metadata": {},
   "outputs": [
    {
     "data": {
      "text/plain": [
       "[3, 'Armut', 1.2]"
      ]
     },
     "execution_count": 44,
     "metadata": {},
     "output_type": "execute_result"
    }
   ],
   "source": [
    "my_list2[3]"
   ]
  },
  {
   "cell_type": "code",
   "execution_count": 45,
   "id": "2d087116",
   "metadata": {},
   "outputs": [
    {
     "data": {
      "text/plain": [
       "'Armut'"
      ]
     },
     "execution_count": 45,
     "metadata": {},
     "output_type": "execute_result"
    }
   ],
   "source": [
    "### my_list2'nin \"Armut\" elemanına ulaşmak istersem? \n",
    "my_list2[3][1]"
   ]
  },
  {
   "cell_type": "code",
   "execution_count": 46,
   "id": "95196e2d",
   "metadata": {},
   "outputs": [
    {
     "data": {
      "text/plain": [
       "3.2"
      ]
     },
     "execution_count": 46,
     "metadata": {},
     "output_type": "execute_result"
    }
   ],
   "source": [
    "### 3.2'ye ulaşmak istersem\n",
    "my_list2[4][0]"
   ]
  },
  {
   "cell_type": "code",
   "execution_count": 47,
   "id": "7ad2168b",
   "metadata": {},
   "outputs": [
    {
     "data": {
      "text/plain": [
       "(3, 4, 9, 5)"
      ]
     },
     "execution_count": 47,
     "metadata": {},
     "output_type": "execute_result"
    }
   ],
   "source": [
    "sayilar"
   ]
  },
  {
   "cell_type": "code",
   "execution_count": 48,
   "id": "0513be10",
   "metadata": {},
   "outputs": [
    {
     "data": {
      "text/plain": [
       "[3, 4, 9, 5]"
      ]
     },
     "execution_count": 48,
     "metadata": {},
     "output_type": "execute_result"
    }
   ],
   "source": [
    "sayilar_liste = list(sayilar)\n",
    "sayilar_liste"
   ]
  },
  {
   "cell_type": "code",
   "execution_count": 49,
   "id": "205f5ebb",
   "metadata": {},
   "outputs": [
    {
     "data": {
      "text/plain": [
       "[1, 2, 3, 4]"
      ]
     },
     "execution_count": 49,
     "metadata": {},
     "output_type": "execute_result"
    }
   ],
   "source": [
    "sayilar_liste[0:len(sayilar_liste)] = [1,2,3,4]\n",
    "sayilar_liste"
   ]
  },
  {
   "cell_type": "code",
   "execution_count": 50,
   "id": "82a4ac87",
   "metadata": {},
   "outputs": [
    {
     "data": {
      "text/plain": [
       "[5, 7, 'Merhaba', 6, 18, 9]"
      ]
     },
     "execution_count": 50,
     "metadata": {},
     "output_type": "execute_result"
    }
   ],
   "source": [
    "#append, listeye yeni öğe eklemek için kullanılır.\n",
    "my_list"
   ]
  },
  {
   "cell_type": "code",
   "execution_count": 51,
   "id": "061b10f8",
   "metadata": {},
   "outputs": [],
   "source": [
    "my_list.append(\"Selam\")"
   ]
  },
  {
   "cell_type": "code",
   "execution_count": 52,
   "id": "d7f285cd",
   "metadata": {},
   "outputs": [
    {
     "data": {
      "text/plain": [
       "[5, 7, 'Merhaba', 6, 18, 9, 'Selam']"
      ]
     },
     "execution_count": 52,
     "metadata": {},
     "output_type": "execute_result"
    }
   ],
   "source": [
    "my_list"
   ]
  },
  {
   "cell_type": "code",
   "execution_count": 53,
   "id": "b912d167",
   "metadata": {},
   "outputs": [
    {
     "data": {
      "text/plain": [
       "[5, 7, 'Merhaba', 6, 18, 9, 'Selam', 8.2]"
      ]
     },
     "execution_count": 53,
     "metadata": {},
     "output_type": "execute_result"
    }
   ],
   "source": [
    "my_list.append(8.2)\n",
    "my_list"
   ]
  },
  {
   "cell_type": "code",
   "execution_count": 55,
   "id": "f49a627f",
   "metadata": {},
   "outputs": [
    {
     "data": {
      "text/plain": [
       "[5, 7, 'Merhaba', 6, 18, 9, 'Selam', 8.2, ['Nasılsın?', 9]]"
      ]
     },
     "execution_count": 55,
     "metadata": {},
     "output_type": "execute_result"
    }
   ],
   "source": [
    "###[\"Nasılsın,9\"] listesini ekleyelim\n",
    "my_list.append([\"Nasılsın?\", 9])\n",
    "my_list"
   ]
  },
  {
   "cell_type": "code",
   "execution_count": 56,
   "id": "4f48cc46",
   "metadata": {},
   "outputs": [
    {
     "data": {
      "text/plain": [
       "[4, 9, 'Python', 5.7, 'Hi-Kod']"
      ]
     },
     "execution_count": 56,
     "metadata": {},
     "output_type": "execute_result"
    }
   ],
   "source": [
    "#insert, belirlenen indexe öğeyi ekler.\n",
    "new_list"
   ]
  },
  {
   "cell_type": "code",
   "execution_count": 58,
   "id": "7496eda3",
   "metadata": {},
   "outputs": [],
   "source": [
    "new_list.insert(2,\"Veri Bilimi\")"
   ]
  },
  {
   "cell_type": "code",
   "execution_count": 59,
   "id": "039dbc01",
   "metadata": {},
   "outputs": [
    {
     "data": {
      "text/plain": [
       "[4, 9, 'Veri Bilimi', 'Python', 5.7, 'Hi-Kod']"
      ]
     },
     "execution_count": 59,
     "metadata": {},
     "output_type": "execute_result"
    }
   ],
   "source": [
    "new_list"
   ]
  },
  {
   "cell_type": "code",
   "execution_count": 60,
   "id": "7544ada8",
   "metadata": {},
   "outputs": [
    {
     "data": {
      "text/plain": [
       "[4, 9, 'Veri Bilimi', 'Python', 6, 5.7, 'Hi-Kod']"
      ]
     },
     "execution_count": 60,
     "metadata": {},
     "output_type": "execute_result"
    }
   ],
   "source": [
    "### 4.indekse 6 sayısını ekleyelim\n",
    "new_list.insert(4,6)\n",
    "new_list"
   ]
  },
  {
   "cell_type": "code",
   "execution_count": 23,
   "id": "2ede303b",
   "metadata": {},
   "outputs": [
    {
     "name": "stdout",
     "output_type": "stream",
     "text": [
      "[5, 7, 3, 6, 18, 9]\n",
      "[4, 9, 'Python', 5.7, 'Hi-Kod']\n",
      "[5, 7, 3, 6, 18, 9, 4, 9, 'Python', 5.7, 'Hi-Kod']\n"
     ]
    }
   ],
   "source": [
    "#extend, iki listeyi birbirine ekler.\n",
    "print(my_list)\n",
    "print(new_list)\n",
    "my_list.extend(new_list)\n",
    "print(my_list)"
   ]
  },
  {
   "cell_type": "code",
   "execution_count": 63,
   "id": "5a85d8d5",
   "metadata": {},
   "outputs": [
    {
     "name": "stdout",
     "output_type": "stream",
     "text": [
      "[4, 9, 'Veri Bilimi', 6, 5.7, 'Hi-Kod']\n"
     ]
    }
   ],
   "source": [
    "#remove,belirlenen öğeyi listeden siler\n",
    "new_list.remove(\"Python\")\n",
    "print(new_list)"
   ]
  },
  {
   "cell_type": "code",
   "execution_count": 64,
   "id": "9a6727ef",
   "metadata": {},
   "outputs": [
    {
     "data": {
      "text/plain": [
       "[4, 9, 'Veri Bilimi', 6, 'Hi-Kod']"
      ]
     },
     "execution_count": 64,
     "metadata": {},
     "output_type": "execute_result"
    }
   ],
   "source": [
    "#pop, belirlenen indexdeki öğeyi siler\n",
    "new_list.pop(4)\n",
    "new_list"
   ]
  },
  {
   "cell_type": "code",
   "execution_count": 65,
   "id": "5b0b47ae",
   "metadata": {},
   "outputs": [
    {
     "data": {
      "text/plain": [
       "[4, 9, 'Veri Bilimi', 6]"
      ]
     },
     "execution_count": 65,
     "metadata": {},
     "output_type": "execute_result"
    }
   ],
   "source": [
    "#listedeki son elemanı siler\n",
    "new_list.pop()\n",
    "new_list"
   ]
  },
  {
   "cell_type": "code",
   "execution_count": 66,
   "id": "7b0367ee",
   "metadata": {},
   "outputs": [],
   "source": [
    "#clear, listenin tüm öğelerini siler.\n",
    "new_list.clear()"
   ]
  },
  {
   "cell_type": "code",
   "execution_count": 67,
   "id": "ef529fd3",
   "metadata": {},
   "outputs": [
    {
     "data": {
      "text/plain": [
       "[]"
      ]
     },
     "execution_count": 67,
     "metadata": {},
     "output_type": "execute_result"
    }
   ],
   "source": [
    "new_list"
   ]
  },
  {
   "cell_type": "code",
   "execution_count": 39,
   "id": "e6c9ca91",
   "metadata": {},
   "outputs": [
    {
     "name": "stdout",
     "output_type": "stream",
     "text": [
      "4\n"
     ]
    }
   ],
   "source": [
    "liste1=[\"a\",\"b\",\"c\",[\"d\",\"e\"],[\"f\",\"g\",\"t\"],[\"l\",\"m\",\"n\"]]\n",
    "for i in range(len(liste1)):\n",
    "    for j in range(len(liste1[i])):\n",
    "        if liste1[i][j] == \"t\":\n",
    "            print(str(i))"
   ]
  },
  {
   "cell_type": "code",
   "execution_count": 70,
   "id": "143d93e5",
   "metadata": {},
   "outputs": [
    {
     "data": {
      "text/plain": [
       "['elma', 'muz', 'çilek', 'ayva', 'üzüm']"
      ]
     },
     "execution_count": 70,
     "metadata": {},
     "output_type": "execute_result"
    }
   ],
   "source": [
    "meyveler"
   ]
  },
  {
   "cell_type": "code",
   "execution_count": 72,
   "id": "d5673c62",
   "metadata": {},
   "outputs": [
    {
     "data": {
      "text/plain": [
       "['elma', 'ayva']"
      ]
     },
     "execution_count": 72,
     "metadata": {},
     "output_type": "execute_result"
    }
   ],
   "source": [
    "###BERABER YAPALIM!!!!!\n",
    "###new_meyveler listesi oluşturalım ve bu listeye meyveler listesindeki meyve isimlerinden içinde \"a\" harfi olanları ekleyelim.\n",
    "\n",
    "new_meyveler = []\n",
    "for meyve in meyveler:\n",
    "    if \"a\" in meyve:\n",
    "        new_meyveler.append(meyve)\n",
    "        \n",
    "new_meyveler"
   ]
  },
  {
   "cell_type": "code",
   "execution_count": 74,
   "id": "e1845f19",
   "metadata": {},
   "outputs": [
    {
     "data": {
      "text/plain": [
       "[8, 14, 7, 66, 37, 20, 4]"
      ]
     },
     "execution_count": 74,
     "metadata": {},
     "output_type": "execute_result"
    }
   ],
   "source": [
    "# sort fonksiyonu, listedeki öğeleri sıralar\n",
    "numbers = [8,14,7,66,37,20,4]\n",
    "numbers"
   ]
  },
  {
   "cell_type": "code",
   "execution_count": 75,
   "id": "25da0f70",
   "metadata": {},
   "outputs": [
    {
     "data": {
      "text/plain": [
       "[4, 7, 8, 14, 20, 37, 66]"
      ]
     },
     "execution_count": 75,
     "metadata": {},
     "output_type": "execute_result"
    }
   ],
   "source": [
    "numbers.sort()\n",
    "numbers"
   ]
  },
  {
   "cell_type": "code",
   "execution_count": 78,
   "id": "273f0a08",
   "metadata": {},
   "outputs": [
    {
     "data": {
      "text/plain": [
       "['elma', 'muz', 'portakal', 'ayva', 'mandalina']"
      ]
     },
     "execution_count": 78,
     "metadata": {},
     "output_type": "execute_result"
    }
   ],
   "source": [
    "meyveler = [\"elma\",\"muz\",\"portakal\",\"ayva\",\"mandalina\"]\n",
    "meyveler"
   ]
  },
  {
   "cell_type": "code",
   "execution_count": 79,
   "id": "861918ae",
   "metadata": {},
   "outputs": [
    {
     "data": {
      "text/plain": [
       "['ayva', 'elma', 'mandalina', 'muz', 'portakal']"
      ]
     },
     "execution_count": 79,
     "metadata": {},
     "output_type": "execute_result"
    }
   ],
   "source": [
    "###Meyveler listesinde sort fonkiyonu kullanabilir miyim? Sonucu ne olur?\n",
    "\n",
    "meyveler.sort()\n",
    "meyveler"
   ]
  },
  {
   "cell_type": "code",
   "execution_count": 80,
   "id": "fb2fdf7a",
   "metadata": {},
   "outputs": [
    {
     "name": "stdout",
     "output_type": "stream",
     "text": [
      "['portakal', 'muz', 'mandalina', 'elma', 'ayva']\n"
     ]
    }
   ],
   "source": [
    "meyveler = [\"elma\",\"muz\",\"portakal\",\"ayva\",\"mandalina\"]\n",
    "meyveler.sort(reverse = True)\n",
    "print(meyveler)"
   ]
  },
  {
   "cell_type": "code",
   "execution_count": 81,
   "id": "01ca41db",
   "metadata": {},
   "outputs": [
    {
     "data": {
      "text/plain": [
       "['mandalina', 'ayva', 'portakal', 'muz', 'elma']"
      ]
     },
     "execution_count": 81,
     "metadata": {},
     "output_type": "execute_result"
    }
   ],
   "source": [
    "#reverse, listeyi tersine çevirir\n",
    "meyveler = [\"elma\",\"muz\",\"portakal\",\"ayva\",\"mandalina\"]\n",
    "meyveler.reverse()\n",
    "meyveler"
   ]
  },
  {
   "cell_type": "code",
   "execution_count": 82,
   "id": "bf223ae0",
   "metadata": {},
   "outputs": [
    {
     "data": {
      "text/plain": [
       "[4, 20, 37, 66, 7, 14, 8]"
      ]
     },
     "execution_count": 82,
     "metadata": {},
     "output_type": "execute_result"
    }
   ],
   "source": [
    "numbers = [8,14,7,66,37,20,4]\n",
    "numbers.reverse()\n",
    "numbers"
   ]
  },
  {
   "cell_type": "code",
   "execution_count": 83,
   "id": "86aff710",
   "metadata": {},
   "outputs": [
    {
     "data": {
      "text/plain": [
       "[4, 20, 37, 66, 7, 14, 8]"
      ]
     },
     "execution_count": 83,
     "metadata": {},
     "output_type": "execute_result"
    }
   ],
   "source": [
    "#copy fonksiyonu ile listeyi kopyalayabiliriz.\n",
    "new_numbers = numbers.copy()\n",
    "new_numbers"
   ]
  },
  {
   "cell_type": "code",
   "execution_count": 84,
   "id": "a767ecac",
   "metadata": {},
   "outputs": [
    {
     "data": {
      "text/plain": [
       "[4, 20, 37, 66, 7, 14, 8]"
      ]
     },
     "execution_count": 84,
     "metadata": {},
     "output_type": "execute_result"
    }
   ],
   "source": [
    "new_numbers2 = numbers\n",
    "new_numbers2"
   ]
  },
  {
   "cell_type": "code",
   "execution_count": 85,
   "id": "f84abef9",
   "metadata": {},
   "outputs": [
    {
     "data": {
      "text/plain": [
       "[4, 20, 37, 66, 7, 14, 8, 'Hello']"
      ]
     },
     "execution_count": 85,
     "metadata": {},
     "output_type": "execute_result"
    }
   ],
   "source": [
    "numbers.append(\"Hello\")\n",
    "numbers"
   ]
  },
  {
   "cell_type": "code",
   "execution_count": 86,
   "id": "852bf2c9",
   "metadata": {},
   "outputs": [
    {
     "data": {
      "text/plain": [
       "[4, 20, 37, 66, 7, 14, 8]"
      ]
     },
     "execution_count": 86,
     "metadata": {},
     "output_type": "execute_result"
    }
   ],
   "source": [
    "new_numbers"
   ]
  },
  {
   "cell_type": "code",
   "execution_count": 87,
   "id": "d9ec0e8d",
   "metadata": {},
   "outputs": [
    {
     "data": {
      "text/plain": [
       "[4, 20, 37, 66, 7, 14, 8, 'Hello']"
      ]
     },
     "execution_count": 87,
     "metadata": {},
     "output_type": "execute_result"
    }
   ],
   "source": [
    "new_numbers2"
   ]
  },
  {
   "cell_type": "markdown",
   "id": "ab301017",
   "metadata": {},
   "source": [
    "# Tuple\n",
    "Bir Tuple (Demet) tanımlamak için parantez işareti kullanılır."
   ]
  },
  {
   "cell_type": "code",
   "execution_count": 88,
   "id": "4ab7673e",
   "metadata": {},
   "outputs": [
    {
     "data": {
      "text/plain": [
       "('Merhaba', 5, 6.7)"
      ]
     },
     "execution_count": 88,
     "metadata": {},
     "output_type": "execute_result"
    }
   ],
   "source": [
    "t=(\"Merhaba\",5,6.7)\n",
    "t"
   ]
  },
  {
   "cell_type": "code",
   "execution_count": 89,
   "id": "901bbb14",
   "metadata": {},
   "outputs": [
    {
     "data": {
      "text/plain": [
       "tuple"
      ]
     },
     "execution_count": 89,
     "metadata": {},
     "output_type": "execute_result"
    }
   ],
   "source": [
    "type(t)"
   ]
  },
  {
   "cell_type": "code",
   "execution_count": 90,
   "id": "95ac6019",
   "metadata": {},
   "outputs": [
    {
     "data": {
      "text/plain": [
       "('Veri', 'Bilimi', 8)"
      ]
     },
     "execution_count": 90,
     "metadata": {},
     "output_type": "execute_result"
    }
   ],
   "source": [
    "t2 = \"Veri\",\"Bilimi\",8\n",
    "t2"
   ]
  },
  {
   "cell_type": "code",
   "execution_count": 91,
   "id": "288142cc",
   "metadata": {},
   "outputs": [
    {
     "data": {
      "text/plain": [
       "tuple"
      ]
     },
     "execution_count": 91,
     "metadata": {},
     "output_type": "execute_result"
    }
   ],
   "source": [
    "type(t2)"
   ]
  },
  {
   "cell_type": "code",
   "execution_count": 96,
   "id": "39a602b7",
   "metadata": {},
   "outputs": [
    {
     "name": "stdout",
     "output_type": "stream",
     "text": [
      "('armut', 'muz', 'ayva', 'portakal', 'armut', 'mandalina')\n"
     ]
    }
   ],
   "source": [
    "meyveler = (\"armut\",\"muz\",\"ayva\",\"portakal\",\"armut\",\"mandalina\")\n",
    "print(meyveler)"
   ]
  },
  {
   "cell_type": "code",
   "execution_count": 98,
   "id": "e3d8b1c5",
   "metadata": {},
   "outputs": [
    {
     "data": {
      "text/plain": [
       "'muz'"
      ]
     },
     "execution_count": 98,
     "metadata": {},
     "output_type": "execute_result"
    }
   ],
   "source": [
    "meyveler[1]"
   ]
  },
  {
   "cell_type": "code",
   "execution_count": 99,
   "id": "2965691c",
   "metadata": {},
   "outputs": [
    {
     "data": {
      "text/plain": [
       "'mandalina'"
      ]
     },
     "execution_count": 99,
     "metadata": {},
     "output_type": "execute_result"
    }
   ],
   "source": [
    "meyveler[-1]"
   ]
  },
  {
   "cell_type": "code",
   "execution_count": 102,
   "id": "8d2fdd35",
   "metadata": {},
   "outputs": [
    {
     "data": {
      "text/plain": [
       "('armut', 'muz', 'ayva')"
      ]
     },
     "execution_count": 102,
     "metadata": {},
     "output_type": "execute_result"
    }
   ],
   "source": [
    "meyveler[:3]"
   ]
  },
  {
   "cell_type": "code",
   "execution_count": 103,
   "id": "e3c2c3c5",
   "metadata": {},
   "outputs": [
    {
     "data": {
      "text/plain": [
       "('portakal', 'armut', 'mandalina')"
      ]
     },
     "execution_count": 103,
     "metadata": {},
     "output_type": "execute_result"
    }
   ],
   "source": [
    "meyveler[3:]"
   ]
  },
  {
   "cell_type": "code",
   "execution_count": 101,
   "id": "a8a002b1",
   "metadata": {},
   "outputs": [
    {
     "data": {
      "text/plain": [
       "('ayva', 'portakal', 'armut')"
      ]
     },
     "execution_count": 101,
     "metadata": {},
     "output_type": "execute_result"
    }
   ],
   "source": [
    "meyveler[2:5]"
   ]
  },
  {
   "cell_type": "code",
   "execution_count": 107,
   "id": "ddf34180",
   "metadata": {},
   "outputs": [
    {
     "data": {
      "text/plain": [
       "('ayva', 'portakal', 'armut')"
      ]
     },
     "execution_count": 107,
     "metadata": {},
     "output_type": "execute_result"
    }
   ],
   "source": [
    "meyveler[-4:-1]"
   ]
  },
  {
   "cell_type": "code",
   "execution_count": 108,
   "id": "3d3e1134",
   "metadata": {},
   "outputs": [
    {
     "data": {
      "text/plain": [
       "('armut', 'muz', 'ayva', 'portakal', 'armut', 'mandalina')"
      ]
     },
     "execution_count": 108,
     "metadata": {},
     "output_type": "execute_result"
    }
   ],
   "source": [
    "meyveler"
   ]
  },
  {
   "cell_type": "code",
   "execution_count": 111,
   "id": "a5cdbc7b",
   "metadata": {},
   "outputs": [
    {
     "ename": "TypeError",
     "evalue": "'tuple' object does not support item assignment",
     "output_type": "error",
     "traceback": [
      "\u001b[1;31m---------------------------------------------------------------------------\u001b[0m",
      "\u001b[1;31mTypeError\u001b[0m                                 Traceback (most recent call last)",
      "Input \u001b[1;32mIn [111]\u001b[0m, in \u001b[0;36m<cell line: 2>\u001b[1;34m()\u001b[0m\n\u001b[0;32m      1\u001b[0m \u001b[38;5;66;03m#Tuple'lar bir kez oluşturulduktan sonra değerleri değiştirilemez,silinemez ya da yeni değer eklenemez.\u001b[39;00m\n\u001b[1;32m----> 2\u001b[0m meyveler[\u001b[38;5;241m1\u001b[39m] \u001b[38;5;241m=\u001b[39m \u001b[38;5;124m\"\u001b[39m\u001b[38;5;124melma\u001b[39m\u001b[38;5;124m\"\u001b[39m\n\u001b[0;32m      3\u001b[0m meyveler\n",
      "\u001b[1;31mTypeError\u001b[0m: 'tuple' object does not support item assignment"
     ]
    }
   ],
   "source": [
    "#Tuple'lar bir kez oluşturulduktan sonra değerleri değiştirilemez,silinemez ya da yeni değer eklenemez.\n",
    "meyveler[1] = \"elma\"\n",
    "meyveler"
   ]
  },
  {
   "cell_type": "code",
   "execution_count": 112,
   "id": "ab843706",
   "metadata": {},
   "outputs": [
    {
     "data": {
      "text/plain": [
       "('armut', 'muz', 'ayva', 'portakal', 'armut', 'mandalina', 'elma')"
      ]
     },
     "execution_count": 112,
     "metadata": {},
     "output_type": "execute_result"
    }
   ],
   "source": [
    "#Tuple'lara yeni öğe eklemek için eklenecek öğede tuple olabilir.\n",
    "meyveler = (\"armut\",\"muz\",\"ayva\",\"portakal\",\"armut\",\"mandalina\")\n",
    "meyve = (\"elma\",) #tek öğeli tuple oluştururken öğeden sonra virgül koyulmalıdır. Diğer türlü o öğe tuple olmaz\n",
    "meyveler += meyve\n",
    "meyveler"
   ]
  },
  {
   "cell_type": "code",
   "execution_count": 116,
   "id": "9fb132b9",
   "metadata": {},
   "outputs": [
    {
     "name": "stdout",
     "output_type": "stream",
     "text": [
      "<class 'str'>\n",
      "<class 'tuple'>\n"
     ]
    }
   ],
   "source": [
    "meyve1 = (\"elma\")\n",
    "meyve2 = (\"elma\",)\n",
    "print(type(meyve1))\n",
    "print(type(meyve2))"
   ]
  },
  {
   "cell_type": "code",
   "execution_count": 117,
   "id": "8f010a8d",
   "metadata": {},
   "outputs": [
    {
     "name": "stdout",
     "output_type": "stream",
     "text": [
      "armut\n",
      "muz\n",
      "ayva\n",
      "portakal\n",
      "armut\n",
      "mandalina\n"
     ]
    }
   ],
   "source": [
    "### Tüm meyveleri döngü ile yazdıralım.\n",
    "meyveler = (\"armut\",\"muz\",\"ayva\",\"portakal\",\"armut\",\"mandalina\")\n",
    "\n",
    "for i in meyveler:\n",
    "    print(i)"
   ]
  },
  {
   "cell_type": "code",
   "execution_count": 120,
   "id": "e25ec6f4",
   "metadata": {},
   "outputs": [
    {
     "name": "stdout",
     "output_type": "stream",
     "text": [
      "armut\n",
      "muz\n",
      "ayva\n",
      "portakal\n",
      "armut\n",
      "mandalina\n"
     ]
    }
   ],
   "source": [
    "###BİRLİKTE YAPALIM!!!\n",
    "###indexleri kullanarak for döngüsüyle meyveleri yazdıralım.\n",
    "meyveler = (\"armut\",\"muz\",\"ayva\",\"portakal\",\"armut\",\"mandalina\")\n",
    "\n",
    "for i in range(len(meyveler)):\n",
    "    print(meyveler[i])"
   ]
  },
  {
   "cell_type": "code",
   "execution_count": 24,
   "id": "42a0222e",
   "metadata": {},
   "outputs": [
    {
     "name": "stdout",
     "output_type": "stream",
     "text": [
      "armut\n",
      "muz\n",
      "ayva\n",
      "portakal\n",
      "armut\n",
      "mandalina\n"
     ]
    }
   ],
   "source": [
    "###BİRLİKTE YAPALIM!!!\n",
    "###indexleri kullanarak while döngüsüyle meyveleri yazdıralım.\n",
    "meyveler = (\"armut\",\"muz\",\"ayva\",\"portakal\",\"armut\",\"mandalina\")\n",
    "i = 0\n",
    "\n",
    "while i < len(meyveler):\n",
    "    print(meyveler[i])\n",
    "    i = i+1"
   ]
  },
  {
   "cell_type": "markdown",
   "id": "dff7546b",
   "metadata": {},
   "source": [
    "# Sets\n",
    "\n",
    "Python'daki veri tiplerinden biri de Sets(Kümeler)'dir. Matematikte bulunan kümelerdeki özellikler; kesişim,birleşim, fark gibi Python'daki kümelerde de bulunur."
   ]
  },
  {
   "cell_type": "code",
   "execution_count": 4,
   "id": "3b17b9b4",
   "metadata": {},
   "outputs": [],
   "source": [
    "kume = set()"
   ]
  },
  {
   "cell_type": "code",
   "execution_count": 5,
   "id": "d5755aaf",
   "metadata": {},
   "outputs": [
    {
     "data": {
      "text/plain": [
       "set"
      ]
     },
     "execution_count": 5,
     "metadata": {},
     "output_type": "execute_result"
    }
   ],
   "source": [
    "type(kume)"
   ]
  },
  {
   "cell_type": "code",
   "execution_count": 1,
   "id": "ffb87370",
   "metadata": {},
   "outputs": [
    {
     "data": {
      "text/plain": [
       "{'Atolye', 'Python', 'Veri Bilimi'}"
      ]
     },
     "execution_count": 1,
     "metadata": {},
     "output_type": "execute_result"
    }
   ],
   "source": [
    "#kümeler sıralanamazlar.\n",
    "kume = {\"Python\", \"Veri Bilimi\", \"Atolye\"}\n",
    "kume"
   ]
  },
  {
   "cell_type": "code",
   "execution_count": 7,
   "id": "8badf2d6",
   "metadata": {},
   "outputs": [
    {
     "data": {
      "text/plain": [
       "{9, 'ayva', 'elma'}"
      ]
     },
     "execution_count": 7,
     "metadata": {},
     "output_type": "execute_result"
    }
   ],
   "source": [
    "meyveler = set([\"elma\",\"ayva\",9])\n",
    "meyveler"
   ]
  },
  {
   "cell_type": "code",
   "execution_count": 9,
   "id": "baad52c1",
   "metadata": {},
   "outputs": [
    {
     "data": {
      "text/plain": [
       "{' ', 'A', 'B', 'V', 'e', 'i', 'l', 'm', 'r', 's', 't', 'y', 'ö'}"
      ]
     },
     "execution_count": 9,
     "metadata": {},
     "output_type": "execute_result"
    }
   ],
   "source": [
    "atolye = \"Veri Bilimi Atölyesi\"\n",
    "set(atolye)"
   ]
  },
  {
   "cell_type": "code",
   "execution_count": 9,
   "id": "db119c2c",
   "metadata": {},
   "outputs": [
    {
     "data": {
      "text/plain": [
       "{6, 8.5, 'Merhaba', 'Python', True}"
      ]
     },
     "execution_count": 9,
     "metadata": {},
     "output_type": "execute_result"
    }
   ],
   "source": [
    "# kümeler öğeleri birden fazla kez tekrar etmez.\n",
    "kume2 = {\"Python\",\"Merhaba\",6,8.5,\"Merhaba\",True}\n",
    "kume2"
   ]
  },
  {
   "cell_type": "code",
   "execution_count": 14,
   "id": "a17f5dd6",
   "metadata": {},
   "outputs": [
    {
     "ename": "TypeError",
     "evalue": "'set' object is not subscriptable",
     "output_type": "error",
     "traceback": [
      "\u001b[1;31m---------------------------------------------------------------------------\u001b[0m",
      "\u001b[1;31mTypeError\u001b[0m                                 Traceback (most recent call last)",
      "Input \u001b[1;32mIn [14]\u001b[0m, in \u001b[0;36m<cell line: 2>\u001b[1;34m()\u001b[0m\n\u001b[0;32m      1\u001b[0m \u001b[38;5;66;03m#kümeler indexlenemez\u001b[39;00m\n\u001b[1;32m----> 2\u001b[0m \u001b[43mkume2\u001b[49m\u001b[43m[\u001b[49m\u001b[38;5;241;43m1\u001b[39;49m\u001b[43m]\u001b[49m\n",
      "\u001b[1;31mTypeError\u001b[0m: 'set' object is not subscriptable"
     ]
    }
   ],
   "source": [
    "#kümeler indexlenemez\n",
    "kume2[1]"
   ]
  },
  {
   "cell_type": "code",
   "execution_count": 3,
   "id": "0a9b86c3",
   "metadata": {},
   "outputs": [
    {
     "data": {
      "text/plain": [
       "{9, 'Merhaba', 'Python', True}"
      ]
     },
     "execution_count": 3,
     "metadata": {},
     "output_type": "execute_result"
    }
   ],
   "source": [
    "#kümeler oluşturulduktan sonra öğeleri değiştirilemez ancak yeni öğeler eklenebilir.\n",
    "kume = {\"Merhaba\", 9, True}\n",
    "kume.add(\"Python\")\n",
    "kume"
   ]
  },
  {
   "cell_type": "code",
   "execution_count": 4,
   "id": "58558c58",
   "metadata": {},
   "outputs": [
    {
     "data": {
      "text/plain": [
       "{9, 'Merhaba', 'Python', True}"
      ]
     },
     "execution_count": 4,
     "metadata": {},
     "output_type": "execute_result"
    }
   ],
   "source": [
    "kume.add(\"Merhaba\")\n",
    "kume"
   ]
  },
  {
   "cell_type": "code",
   "execution_count": 5,
   "id": "932384a7",
   "metadata": {},
   "outputs": [
    {
     "data": {
      "text/plain": [
       "{True, 4.7}"
      ]
     },
     "execution_count": 5,
     "metadata": {},
     "output_type": "execute_result"
    }
   ],
   "source": [
    "#difference metodu iki kümenin farkını almak için kullanılır.\n",
    "k1={3,8,6.7,\"Merhaba\"}\n",
    "k2={\"Merhaba\",8,True,4.7}\n",
    "k2.difference(k1)"
   ]
  },
  {
   "cell_type": "code",
   "execution_count": 6,
   "id": "b1136d51",
   "metadata": {},
   "outputs": [
    {
     "data": {
      "text/plain": [
       "{3, 6.7}"
      ]
     },
     "execution_count": 6,
     "metadata": {},
     "output_type": "execute_result"
    }
   ],
   "source": [
    "k1.difference(k2)"
   ]
  },
  {
   "cell_type": "code",
   "execution_count": 7,
   "id": "4879062c",
   "metadata": {},
   "outputs": [
    {
     "data": {
      "text/plain": [
       "{3, 6.7}"
      ]
     },
     "execution_count": 7,
     "metadata": {},
     "output_type": "execute_result"
    }
   ],
   "source": [
    "# - işareti kullanılarakta fark alınabilir.\n",
    "k1-k2"
   ]
  },
  {
   "cell_type": "code",
   "execution_count": 10,
   "id": "20aad577",
   "metadata": {},
   "outputs": [
    {
     "data": {
      "text/plain": [
       "{6, 8.5, 'Merhaba', 'Python', True}"
      ]
     },
     "execution_count": 10,
     "metadata": {},
     "output_type": "execute_result"
    }
   ],
   "source": [
    "#discard metodu, kümeden öğe silmemizi sağlar.\n",
    "kume2"
   ]
  },
  {
   "cell_type": "code",
   "execution_count": 11,
   "id": "a025a57b",
   "metadata": {},
   "outputs": [],
   "source": [
    "kume2.discard(\"Python\")\n"
   ]
  },
  {
   "cell_type": "code",
   "execution_count": 12,
   "id": "444a5267",
   "metadata": {},
   "outputs": [
    {
     "data": {
      "text/plain": [
       "{6, 8.5, 'Merhaba', True}"
      ]
     },
     "execution_count": 12,
     "metadata": {},
     "output_type": "execute_result"
    }
   ],
   "source": [
    "kume2"
   ]
  },
  {
   "cell_type": "code",
   "execution_count": 13,
   "id": "e2258300",
   "metadata": {},
   "outputs": [
    {
     "data": {
      "text/plain": [
       "{6, 8.5, 'Merhaba'}"
      ]
     },
     "execution_count": 13,
     "metadata": {},
     "output_type": "execute_result"
    }
   ],
   "source": [
    "#remove metodu, kümeden öğe silmeyi sağlar. Discard'dan farkı, kümede olmayan bir öğeyi silmek istendiğinde discord metodu hata vermezken remove metodu hata verir.\n",
    "kume2.remove(True)\n",
    "kume2"
   ]
  },
  {
   "cell_type": "code",
   "execution_count": 14,
   "id": "09f20ad0",
   "metadata": {},
   "outputs": [
    {
     "name": "stdout",
     "output_type": "stream",
     "text": [
      "{8, 3, 'Merhaba', 6.7}\n",
      "{8, True, 'Merhaba', 4.7}\n"
     ]
    }
   ],
   "source": [
    "#intersection,iki kümedeki kesişimi ifade eder.(& işaretide kullanılabilir.)\n",
    "print(k1)\n",
    "print(k2)"
   ]
  },
  {
   "cell_type": "code",
   "execution_count": 15,
   "id": "dbb0235e",
   "metadata": {},
   "outputs": [
    {
     "data": {
      "text/plain": [
       "{8, 'Merhaba'}"
      ]
     },
     "execution_count": 15,
     "metadata": {},
     "output_type": "execute_result"
    }
   ],
   "source": [
    "k1.intersection(k2)"
   ]
  },
  {
   "cell_type": "code",
   "execution_count": 16,
   "id": "0c53836a",
   "metadata": {},
   "outputs": [
    {
     "data": {
      "text/plain": [
       "{3, 4.7, 6.7, 8, 'Merhaba', True}"
      ]
     },
     "execution_count": 16,
     "metadata": {},
     "output_type": "execute_result"
    }
   ],
   "source": [
    "#union, iki kümenin birleşimini alır.(| işaretide kullanılabilir.)\n",
    "k1.union(k2)"
   ]
  },
  {
   "cell_type": "markdown",
   "id": "a1c87095",
   "metadata": {},
   "source": [
    "# Dictionary\n",
    "Sözlükler; anahtar ve değer çiftlerinin birbirleriyle eşleştirildiği bir veri tipidir.\n",
    "\n",
    "{key(anahtar) : value(değer)}"
   ]
  },
  {
   "cell_type": "code",
   "execution_count": 4,
   "id": "5a5e0542",
   "metadata": {},
   "outputs": [
    {
     "data": {
      "text/plain": [
       "{'book': 'kitap'}"
      ]
     },
     "execution_count": 4,
     "metadata": {},
     "output_type": "execute_result"
    }
   ],
   "source": [
    "sozluk = {\"book\":\"kitap\"}\n",
    "sozluk"
   ]
  },
  {
   "cell_type": "code",
   "execution_count": 5,
   "id": "6b08c88f",
   "metadata": {},
   "outputs": [
    {
     "data": {
      "text/plain": [
       "1"
      ]
     },
     "execution_count": 5,
     "metadata": {},
     "output_type": "execute_result"
    }
   ],
   "source": [
    "### sözlüğün uzunluğuna bakalım.\n",
    "len(sozluk)"
   ]
  },
  {
   "cell_type": "code",
   "execution_count": 6,
   "id": "3b082cfd",
   "metadata": {},
   "outputs": [
    {
     "data": {
      "text/plain": [
       "{'book': 'kitap', 'pencil': 'kalem', 'table': 'masa'}"
      ]
     },
     "execution_count": 6,
     "metadata": {},
     "output_type": "execute_result"
    }
   ],
   "source": [
    "sozluk = {\"book\":\"kitap\",\"pencil\":\"kalem\",\"table\":\"masa\"}\n",
    "sozluk"
   ]
  },
  {
   "cell_type": "code",
   "execution_count": 7,
   "id": "e5c6f3e0",
   "metadata": {},
   "outputs": [
    {
     "data": {
      "text/plain": [
       "3"
      ]
     },
     "execution_count": 7,
     "metadata": {},
     "output_type": "execute_result"
    }
   ],
   "source": [
    "len(sozluk)"
   ]
  },
  {
   "cell_type": "code",
   "execution_count": 25,
   "id": "b15e8784",
   "metadata": {},
   "outputs": [
    {
     "data": {
      "text/plain": [
       "{'book': 'kitap', 'pencil': 'kalem', 'table': 'masa'}"
      ]
     },
     "execution_count": 25,
     "metadata": {},
     "output_type": "execute_result"
    }
   ],
   "source": [
    "sozluk = {\"book\":\"kitap\",\n",
    "          \"pencil\":\"kalem\",\n",
    "          \"table\":\"masa\"}\n",
    "sozluk"
   ]
  },
  {
   "cell_type": "code",
   "execution_count": 10,
   "id": "1f6ffde4",
   "metadata": {},
   "outputs": [
    {
     "data": {
      "text/plain": [
       "'kalem'"
      ]
     },
     "execution_count": 10,
     "metadata": {},
     "output_type": "execute_result"
    }
   ],
   "source": [
    "#sözlükteki öğelere erişmek\n",
    "sozluk[\"pencil\"]"
   ]
  },
  {
   "cell_type": "code",
   "execution_count": 11,
   "id": "6a906c6b",
   "metadata": {},
   "outputs": [
    {
     "name": "stdout",
     "output_type": "stream",
     "text": [
      "kitap\n",
      "kalem\n",
      "masa\n"
     ]
    }
   ],
   "source": [
    "print(sozluk[\"book\"])\n",
    "print(sozluk[\"pencil\"])\n",
    "print(sozluk[\"table\"])"
   ]
  },
  {
   "cell_type": "code",
   "execution_count": 12,
   "id": "93388b21",
   "metadata": {},
   "outputs": [
    {
     "name": "stdout",
     "output_type": "stream",
     "text": [
      "kitap\n",
      "kalem\n",
      "masa\n"
     ]
    }
   ],
   "source": [
    "###aynı değerleri for döngüsü ile yazdıralım\n",
    "\n",
    "for kelime in sozluk:\n",
    "    print(sozluk[kelime])"
   ]
  },
  {
   "cell_type": "code",
   "execution_count": 41,
   "id": "88ea74e3",
   "metadata": {},
   "outputs": [
    {
     "name": "stdout",
     "output_type": "stream",
     "text": [
      "Müşteri numarasını öğrenmek istediğiniz kişinin ismini giriniz: ayşe yılmaz\n",
      "ayşe yılmaz isimli kişinin müşteri numarası: 479621\n",
      "ayşe yılmaz isimli kişinin müşteri numarası :479621\n"
     ]
    }
   ],
   "source": [
    "###BERABER YAPALIM!!\n",
    "###Kullanıcıdan aldığımız isim bilgisine göre müşteri numarasını yazdıralım.\n",
    "\n",
    "musteri_bilgileri = {\"ayşe yılmaz\":\"479621\",\n",
    "                    \"mine sönmez\":\"851743\",\n",
    "                    \"emir alpay\":\"743266\",\n",
    "                    \"sevim kara\":\"154798\"}\n",
    "\n",
    "isim = input(\"Müşteri numarasını öğrenmek istediğiniz kişinin ismini giriniz: \")\n",
    "\n",
    "print(\"{} isimli kişinin müşteri numarası: {}\".format(isim,musteri_bilgileri[isim]))\n",
    "print(isim + \" isimli kişinin müşteri numarası :\" + musteri_bilgileri[isim])"
   ]
  },
  {
   "cell_type": "code",
   "execution_count": 16,
   "id": "d30b8d5c",
   "metadata": {},
   "outputs": [
    {
     "name": "stdout",
     "output_type": "stream",
     "text": [
      "Müşteri numarasını öğrenmek istediğiniz kişinin ismini giriniz: ali\n",
      "Girilen isimde bir müşteri bulunmamamktadır!\n"
     ]
    }
   ],
   "source": [
    "### BİRLİKTE YAPALIM\n",
    "### bu duruma bir koşul ekleyelim. Girilen isim sözlükte yoksa bizi uyarsın!!!\n",
    "musteri_bilgileri = {\"ayşe yılmaz\":\"479621\",\n",
    "                    \"mine sönmez\":\"851743\",\n",
    "                    \"emir alpay\":\"743266\",\n",
    "                    \"sevim kara\":\"154798\"}\n",
    "\n",
    "isim = input(\"Müşteri numarasını öğrenmek istediğiniz kişinin ismini giriniz: \")\n",
    "\n",
    "if isim in musteri_bilgileri:\n",
    "    print(\"{} isimli kişinin müşteri numarası: {}\".format(isim,musteri_bilgileri[isim]))\n",
    "else:\n",
    "    print(\"Girilen isimde bir müşteri bulunmamamktadır!\")"
   ]
  },
  {
   "cell_type": "code",
   "execution_count": 43,
   "id": "09535f93",
   "metadata": {},
   "outputs": [
    {
     "data": {
      "text/plain": [
       "34"
      ]
     },
     "execution_count": 43,
     "metadata": {},
     "output_type": "execute_result"
    }
   ],
   "source": [
    "plaka = {\"İstanbul\":34,\n",
    "        \"Isparta\":32,\n",
    "        \"İzmir\":35}\n",
    "\n",
    "plaka[\"İstanbul\"]"
   ]
  },
  {
   "cell_type": "code",
   "execution_count": 44,
   "id": "c43395ad",
   "metadata": {},
   "outputs": [
    {
     "ename": "ValueError",
     "evalue": "too many values to unpack (expected 2)",
     "output_type": "error",
     "traceback": [
      "\u001b[1;31m---------------------------------------------------------------------------\u001b[0m",
      "\u001b[1;31mValueError\u001b[0m                                Traceback (most recent call last)",
      "Input \u001b[1;32mIn [44]\u001b[0m, in \u001b[0;36m<cell line: 1>\u001b[1;34m()\u001b[0m\n\u001b[1;32m----> 1\u001b[0m \u001b[38;5;28;01mfor\u001b[39;00m k,v \u001b[38;5;129;01min\u001b[39;00m plaka:\n\u001b[0;32m      2\u001b[0m     \u001b[38;5;28mprint\u001b[39m(k)\n\u001b[0;32m      3\u001b[0m     \u001b[38;5;28mprint\u001b[39m(v)\n",
      "\u001b[1;31mValueError\u001b[0m: too many values to unpack (expected 2)"
     ]
    }
   ],
   "source": [
    "for k,v in plaka:\n",
    "    print(k)\n",
    "    print(v)"
   ]
  },
  {
   "cell_type": "code",
   "execution_count": 1,
   "id": "38caa5a9",
   "metadata": {},
   "outputs": [
    {
     "data": {
      "text/plain": [
       "['479621', 'İstanbul', 'Öğretmen']"
      ]
     },
     "execution_count": 1,
     "metadata": {},
     "output_type": "execute_result"
    }
   ],
   "source": [
    "musteri_bilgileri = {\"ayşe yılmaz\":[\"479621\",\"İstanbul\",\"Öğretmen\"],\n",
    "                    \"mine sönmez\":[\"851743\",\"Ankara\",\"Hemşire\"],\n",
    "                    \"emir alpay\":[\"743266\",\"Bursa\",\"Mühendis\"],\n",
    "                    \"sevim kara\":[\"154798\",\"İzmir\",\"Öğrenci\"]}\n",
    "\n",
    "musteri_bilgileri[\"ayşe yılmaz\"]"
   ]
  },
  {
   "cell_type": "code",
   "execution_count": 27,
   "id": "e8115734",
   "metadata": {},
   "outputs": [
    {
     "name": "stdout",
     "output_type": "stream",
     "text": [
      "Müşterinin ismini giriniz: sevim kara\n",
      "Müşteri numarası: 154798\n",
      "Yaşadığı şehir: İzmir\n",
      "Yaşı: 21\n",
      "Meslek: Öğrenci\n"
     ]
    }
   ],
   "source": [
    "###Müşterinin ismini alalım ve bilgilerini yazdıralım.\n",
    "musteri_bilgileri = {\"ayşe yılmaz\":[\"479621\",\"İstanbul\",36,\"Öğretmen\"],\n",
    "                    \"mine sönmez\":[\"851743\",\"Ankara\",24,\"Hemşire\"],\n",
    "                    \"emir alpay\":[\"743266\",\"Bursa\",27,\"Mühendis\"],\n",
    "                    \"sevim kara\":[\"154798\",\"İzmir\",21,\"Öğrenci\"]}\n",
    "\n",
    "isim = input(\"Müşterinin ismini giriniz: \")\n",
    "\n",
    "print(\"Müşteri numarası: \" + musteri_bilgileri[isim][0])\n",
    "print(\"Yaşadığı şehir: \" + musteri_bilgileri[isim][1])\n",
    "print(\"Yaşı: \" + str(musteri_bilgileri[isim][2]))\n",
    "print(\"Meslek: \" + musteri_bilgileri[isim][3])"
   ]
  },
  {
   "cell_type": "code",
   "execution_count": 46,
   "id": "61684f79",
   "metadata": {},
   "outputs": [
    {
     "name": "stdout",
     "output_type": "stream",
     "text": [
      "Müşterinin ismini giriniz: emir alpay\n",
      "{'Müşteri numarası': '743266', 'Şehir': 'Bursa', 'Yaş': 27, 'Meslek': 'Mühendis'}\n"
     ]
    }
   ],
   "source": [
    "musteri_bilgileri = {\"ayşe yılmaz\":{\"Müşteri numarası\":\"479621\",\n",
    "                                    \"Şehir\":\"İstanbul\",\n",
    "                                    \"Yaş\":36,\n",
    "                                    \"Meslek\":\"Öğretmen\"},\n",
    "                     \n",
    "                    \"mine sönmez\":{\"Müşteri numarası\":\"851743\",\n",
    "                                   \"Şehir\":\"Ankara\",\n",
    "                                   \"Yaş\":24,\n",
    "                                   \"Meslek\":\"Hemşire\"},\n",
    "                     \n",
    "                    \"emir alpay\":{\"Müşteri numarası\":\"743266\",\n",
    "                                  \"Şehir\":\"Bursa\",\n",
    "                                  \"Yaş\":27,\n",
    "                                  \"Meslek\":\"Mühendis\"},\n",
    "                     \n",
    "                    \"sevim kara\":{\"Müşteri numarası\":\"154798\",\n",
    "                                  \"Şehir\":\"İzmir\",\n",
    "                                  \"Yaş\":21,\n",
    "                                  \"Meslek\":\"Öğrenci\"}}\n",
    "\n",
    "isim = input(\"Müşterinin ismini giriniz: \")\n",
    "\n",
    "print(musteri_bilgileri[isim])"
   ]
  },
  {
   "cell_type": "code",
   "execution_count": 29,
   "id": "25a1b523",
   "metadata": {},
   "outputs": [
    {
     "data": {
      "text/plain": [
       "24"
      ]
     },
     "execution_count": 29,
     "metadata": {},
     "output_type": "execute_result"
    }
   ],
   "source": [
    "musteri_bilgileri[\"mine sönmez\"][\"Yaş\"]"
   ]
  },
  {
   "cell_type": "code",
   "execution_count": 30,
   "id": "79a702b9",
   "metadata": {},
   "outputs": [
    {
     "name": "stdout",
     "output_type": "stream",
     "text": [
      "Müşterinin ismini giriniz: ayşe yılmaz\n",
      "Kişi hakkında öğrenmek istediğiniz bilgi: Meslek\n",
      "Öğretmen\n"
     ]
    }
   ],
   "source": [
    "###İsim ve müsteri hakkında istenilen bilgiyi kullanıcıdan alalım.\n",
    "musteri_bilgileri = {\"ayşe yılmaz\":{\"Müşteri numarası\":\"479621\",\n",
    "                                    \"Şehir\":\"İstanbul\",\n",
    "                                    \"Yaş\":36,\n",
    "                                    \"Meslek\":\"Öğretmen\"},\n",
    "                     \n",
    "                    \"mine sönmez\":{\"Müşteri numarası\":\"851743\",\n",
    "                                   \"Şehir\":\"Ankara\",\n",
    "                                   \"Yaş\":24,\n",
    "                                   \"Meslek\":\"Hemşire\"},\n",
    "                     \n",
    "                    \"emir alpay\":{\"Müşteri numarası\":\"743266\",\n",
    "                                  \"Şehir\":\"Bursa\",\n",
    "                                  \"Yaş\":27,\n",
    "                                  \"Meslek\":\"Mühendis\"},\n",
    "                     \n",
    "                    \"sevim kara\":{\"Müşteri numarası\":\"154798\",\n",
    "                                  \"Şehir\":\"İzmir\",\n",
    "                                  \"Yaş\":21,\n",
    "                                  \"Meslek\":\"Öğrenci\"}}\n",
    "\n",
    "isim = input(\"Müşterinin ismini giriniz: \")\n",
    "\n",
    "bilgi = input(\"Kişi hakkında öğrenmek istediğiniz bilgi: \")\n",
    "\n",
    "print(musteri_bilgileri[isim][bilgi])"
   ]
  },
  {
   "cell_type": "markdown",
   "id": "508f85ef",
   "metadata": {},
   "source": [
    "Sözlüklerde oluşturulan öğeler kod satırı çalıştırıldığında aynı sırada bize dönmeyebilir. Bu nedenle listelerde yapılan indexleme gibi özellikler sözlüklerde kullanılamaz."
   ]
  },
  {
   "cell_type": "code",
   "execution_count": 31,
   "id": "ce99512a",
   "metadata": {},
   "outputs": [
    {
     "ename": "KeyError",
     "evalue": "0",
     "output_type": "error",
     "traceback": [
      "\u001b[1;31m---------------------------------------------------------------------------\u001b[0m",
      "\u001b[1;31mKeyError\u001b[0m                                  Traceback (most recent call last)",
      "Input \u001b[1;32mIn [31]\u001b[0m, in \u001b[0;36m<cell line: 1>\u001b[1;34m()\u001b[0m\n\u001b[1;32m----> 1\u001b[0m \u001b[43mmusteri_bilgileri\u001b[49m\u001b[43m[\u001b[49m\u001b[38;5;241;43m0\u001b[39;49m\u001b[43m]\u001b[49m\n",
      "\u001b[1;31mKeyError\u001b[0m: 0"
     ]
    }
   ],
   "source": [
    "musteri_bilgileri[0]"
   ]
  },
  {
   "cell_type": "code",
   "execution_count": 33,
   "id": "cc999e6e",
   "metadata": {},
   "outputs": [
    {
     "data": {
      "text/plain": [
       "{'book': 'kitap', 'pencil': 'kalem', 'table': 'masa', 'glass': 'bardak'}"
      ]
     },
     "execution_count": 33,
     "metadata": {},
     "output_type": "execute_result"
    }
   ],
   "source": [
    "#sözlüklere öğe eklemek\n",
    "sozluk[\"glass\"]=\"bardak\"\n",
    "sozluk"
   ]
  },
  {
   "cell_type": "code",
   "execution_count": 34,
   "id": "bf0bb85e",
   "metadata": {},
   "outputs": [],
   "source": [
    "sozluk[\"fork\"] = \"çatal\""
   ]
  },
  {
   "cell_type": "code",
   "execution_count": 35,
   "id": "0ff33d33",
   "metadata": {},
   "outputs": [
    {
     "data": {
      "text/plain": [
       "{'book': 'kitap',\n",
       " 'pencil': 'kalem',\n",
       " 'table': 'masa',\n",
       " 'glass': 'bardak',\n",
       " 'fork': 'çatal'}"
      ]
     },
     "execution_count": 35,
     "metadata": {},
     "output_type": "execute_result"
    }
   ],
   "source": [
    "sozluk"
   ]
  },
  {
   "cell_type": "code",
   "execution_count": 37,
   "id": "233e061e",
   "metadata": {},
   "outputs": [
    {
     "data": {
      "text/plain": [
       "{'İstanbul': 34, 'Isparta': 32, 'İzmir': 35, 'Burdur': 15}"
      ]
     },
     "execution_count": 37,
     "metadata": {},
     "output_type": "execute_result"
    }
   ],
   "source": [
    "plaka[\"Burdur\"]=15\n",
    "plaka"
   ]
  },
  {
   "cell_type": "code",
   "execution_count": 38,
   "id": "94ec64d0",
   "metadata": {},
   "outputs": [],
   "source": [
    "plaka[\"Denizli\"]=20"
   ]
  },
  {
   "cell_type": "code",
   "execution_count": 39,
   "id": "28bac9a9",
   "metadata": {},
   "outputs": [
    {
     "data": {
      "text/plain": [
       "{'İstanbul': 34, 'Isparta': 32, 'İzmir': 35, 'Burdur': 15, 'Denizli': 20}"
      ]
     },
     "execution_count": 39,
     "metadata": {},
     "output_type": "execute_result"
    }
   ],
   "source": [
    "plaka"
   ]
  },
  {
   "cell_type": "markdown",
   "id": "7aea3147",
   "metadata": {},
   "source": [
    "Sözlükler değer olarak her veri tipini kabul ederken, anahtarlar(key) immutable(değiştirilemeyen) veri tiplerini kabul eder.\n",
    "Değiştirilemeyen veri tipleri:\n",
    "- int\n",
    "- string\n",
    "- tuple"
   ]
  },
  {
   "cell_type": "code",
   "execution_count": 28,
   "id": "c6219cbe",
   "metadata": {},
   "outputs": [],
   "source": [
    "yeni_sozluk ={}"
   ]
  },
  {
   "cell_type": "code",
   "execution_count": 29,
   "id": "e1b642ca",
   "metadata": {},
   "outputs": [
    {
     "data": {
      "text/plain": [
       "{'isim': 'Ahmet'}"
      ]
     },
     "execution_count": 29,
     "metadata": {},
     "output_type": "execute_result"
    }
   ],
   "source": [
    "yeni_sozluk[\"isim\"]=\"Ahmet\"\n",
    "yeni_sozluk"
   ]
  },
  {
   "cell_type": "code",
   "execution_count": 30,
   "id": "3a588e04",
   "metadata": {},
   "outputs": [
    {
     "data": {
      "text/plain": [
       "{'isim': 'Ahmet', 45: [1, 3, 5, 9, 15, 45]}"
      ]
     },
     "execution_count": 30,
     "metadata": {},
     "output_type": "execute_result"
    }
   ],
   "source": [
    "yeni_sozluk[45]=[1,3,5,9,15,45]\n",
    "yeni_sozluk"
   ]
  },
  {
   "cell_type": "code",
   "execution_count": 31,
   "id": "d6c55c0a",
   "metadata": {},
   "outputs": [
    {
     "data": {
      "text/plain": [
       "{'isim': 'Ahmet', 45: [1, 3, 5, 9, 15, 45], (1, 2, 3): 'a,b,c'}"
      ]
     },
     "execution_count": 31,
     "metadata": {},
     "output_type": "execute_result"
    }
   ],
   "source": [
    "yeni_sozluk[(1,2,3)]=\"a,b,c\"\n",
    "yeni_sozluk"
   ]
  },
  {
   "cell_type": "code",
   "execution_count": 47,
   "id": "9ef62429",
   "metadata": {},
   "outputs": [
    {
     "data": {
      "text/plain": [
       "{'ayşe yılmaz': {'Müşteri numarası': '479621',\n",
       "  'Şehir': 'İstanbul',\n",
       "  'Yaş': 36,\n",
       "  'Meslek': 'Öğretmen'},\n",
       " 'mine sönmez': {'Müşteri numarası': '851743',\n",
       "  'Şehir': 'Ankara',\n",
       "  'Yaş': 24,\n",
       "  'Meslek': 'Hemşire'},\n",
       " 'emir alpay': {'Müşteri numarası': '743266',\n",
       "  'Şehir': 'Bursa',\n",
       "  'Yaş': 27,\n",
       "  'Meslek': 'Mühendis'},\n",
       " 'sevim kara': {'Müşteri numarası': '154798',\n",
       "  'Şehir': 'İzmir',\n",
       "  'Yaş': 21,\n",
       "  'Meslek': 'Öğrenci'}}"
      ]
     },
     "execution_count": 47,
     "metadata": {},
     "output_type": "execute_result"
    }
   ],
   "source": [
    "#Sözlükteki değerleri değiştirmek\n",
    "\n",
    "musteri_bilgileri"
   ]
  },
  {
   "cell_type": "code",
   "execution_count": 48,
   "id": "3a8d8fd9",
   "metadata": {},
   "outputs": [
    {
     "data": {
      "text/plain": [
       "{'ayşe yılmaz': {'Müşteri numarası': '479621',\n",
       "  'Şehir': 'İstanbul',\n",
       "  'Yaş': 36,\n",
       "  'Meslek': 'Öğretmen'},\n",
       " 'mine sönmez': {'Müşteri numarası': '851743',\n",
       "  'Şehir': 'Ankara',\n",
       "  'Yaş': 24,\n",
       "  'Meslek': 'Hemşire'},\n",
       " 'emir alpay': {'Müşteri numarası': '743266',\n",
       "  'Şehir': 'Bursa',\n",
       "  'Yaş': 45,\n",
       "  'Meslek': 'Mühendis'},\n",
       " 'sevim kara': {'Müşteri numarası': '154798',\n",
       "  'Şehir': 'İzmir',\n",
       "  'Yaş': 21,\n",
       "  'Meslek': 'Öğrenci'}}"
      ]
     },
     "execution_count": 48,
     "metadata": {},
     "output_type": "execute_result"
    }
   ],
   "source": [
    "musteri_bilgileri[\"emir alpay\"][\"Yaş\"] = 45\n",
    "musteri_bilgileri"
   ]
  },
  {
   "cell_type": "code",
   "execution_count": 45,
   "id": "d5c04524",
   "metadata": {},
   "outputs": [
    {
     "data": {
      "text/plain": [
       "{'book': 'kitap', 'pencil': 'kalem', 'table': 'masa'}"
      ]
     },
     "execution_count": 45,
     "metadata": {},
     "output_type": "execute_result"
    }
   ],
   "source": [
    "sozluk"
   ]
  },
  {
   "cell_type": "code",
   "execution_count": 46,
   "id": "cfe01e7d",
   "metadata": {},
   "outputs": [
    {
     "data": {
      "text/plain": [
       "dict_keys(['book', 'pencil', 'table'])"
      ]
     },
     "execution_count": 46,
     "metadata": {},
     "output_type": "execute_result"
    }
   ],
   "source": [
    "#keys metodunu,sözlüğün sadece anahtarlarını almak istediğimizde kullanırız\n",
    "#bu metod bize dict_keys nesnesi veriyor.\n",
    "sozluk.keys()"
   ]
  },
  {
   "cell_type": "code",
   "execution_count": 47,
   "id": "fbc09812",
   "metadata": {},
   "outputs": [
    {
     "data": {
      "text/plain": [
       "['book', 'pencil', 'table']"
      ]
     },
     "execution_count": 47,
     "metadata": {},
     "output_type": "execute_result"
    }
   ],
   "source": [
    "#Bu nesneyi kullanmak için liste ya da tuple a dönüştürebilirz\n",
    "liste =list(sozluk.keys())\n",
    "liste"
   ]
  },
  {
   "cell_type": "code",
   "execution_count": 48,
   "id": "9e18cfc6",
   "metadata": {},
   "outputs": [
    {
     "data": {
      "text/plain": [
       "dict_values(['kitap', 'kalem', 'masa'])"
      ]
     },
     "execution_count": 48,
     "metadata": {},
     "output_type": "execute_result"
    }
   ],
   "source": [
    "#keys metodunu,sözlüğün sadece değerini almak istediğimizde kullanırız\n",
    "sozluk.values()"
   ]
  },
  {
   "cell_type": "code",
   "execution_count": 49,
   "id": "bf1a0513",
   "metadata": {},
   "outputs": [
    {
     "data": {
      "text/plain": [
       "['kitap', 'kalem', 'masa']"
      ]
     },
     "execution_count": 49,
     "metadata": {},
     "output_type": "execute_result"
    }
   ],
   "source": [
    "list(sozluk.values())"
   ]
  },
  {
   "cell_type": "code",
   "execution_count": 50,
   "id": "569ebde6",
   "metadata": {},
   "outputs": [
    {
     "data": {
      "text/plain": [
       "dict_items([('book', 'kitap'), ('pencil', 'kalem'), ('table', 'masa')])"
      ]
     },
     "execution_count": 50,
     "metadata": {},
     "output_type": "execute_result"
    }
   ],
   "source": [
    "#items metodu, sözlüğün hem anahtarlarını hem de değerlerini almamızı sağlar.\n",
    "sozluk.items()"
   ]
  },
  {
   "cell_type": "code",
   "execution_count": 52,
   "id": "8e1a9599",
   "metadata": {},
   "outputs": [
    {
     "name": "stdout",
     "output_type": "stream",
     "text": [
      "book = kitap\n",
      "pencil = kalem\n",
      "table = masa\n"
     ]
    }
   ],
   "source": [
    "for key,value in sozluk.items():\n",
    "    print(\"{} = {}\".format(key,value))"
   ]
  },
  {
   "cell_type": "code",
   "execution_count": 54,
   "id": "a2233134",
   "metadata": {},
   "outputs": [
    {
     "name": "stdout",
     "output_type": "stream",
     "text": [
      "Lütfen anlamını öğrenmek istediğiniz kelimeyi yazınız:ll\n",
      "Bu kelime veritabanımızda yoktur!\n"
     ]
    }
   ],
   "source": [
    "ing_sözlük = {\"dil\": \"language\", \"bilgisayar\": \"computer\", \"masa\": \"table\"}\n",
    "\n",
    "sorgu = input(\"Lütfen anlamını öğrenmek istediğiniz kelimeyi yazınız:\")\n",
    "\n",
    "print(ing_sözlük.get(sorgu, \"Bu kelime veritabanımızda yoktur!\"))"
   ]
  },
  {
   "cell_type": "code",
   "execution_count": 55,
   "id": "c59c6fec",
   "metadata": {},
   "outputs": [
    {
     "data": {
      "text/plain": [
       "{'book': 'kitap', 'pencil': 'kalem', 'table': 'masa'}"
      ]
     },
     "execution_count": 55,
     "metadata": {},
     "output_type": "execute_result"
    }
   ],
   "source": [
    "#get metodu\n",
    "sozluk"
   ]
  },
  {
   "cell_type": "code",
   "execution_count": 60,
   "id": "749ea2f4",
   "metadata": {},
   "outputs": [
    {
     "name": "stdout",
     "output_type": "stream",
     "text": [
      "Hangi kelimenin anlamını öğrenmek istersiniz: table\n",
      "masa\n"
     ]
    }
   ],
   "source": [
    "kelime = input(\"Hangi kelimenin anlamını öğrenmek istersiniz: \")\n",
    "\n",
    "print(sozluk.get(kelime,\"Sözlükte böyle bir kelime bulunmamaktır.\"))\n",
    "#get metodu, parantes içine iki argüman alır. Birincisi sorgulamak istenen sözlük öğesidir.\n",
    "# İkincisi ise öğenin sözlükte bulunmadığı durumda kullanıcıya gösterilecek olan mesaj"
   ]
  },
  {
   "cell_type": "code",
   "execution_count": null,
   "id": "aadca8d1",
   "metadata": {},
   "outputs": [],
   "source": [
    "#Buna göre,yukarıdaki bazı örnekler için get metodu kullanalım"
   ]
  },
  {
   "cell_type": "code",
   "execution_count": 61,
   "id": "0a16a5b1",
   "metadata": {},
   "outputs": [
    {
     "name": "stdout",
     "output_type": "stream",
     "text": [
      "Müşteri numarasını öğrenmek istediğiniz kişinin ismini giriniz: ayşe yılmaz\n",
      "ayşe yılmaz isimli kişinin müşteri numarası: 479621\n"
     ]
    }
   ],
   "source": [
    "musteri_bilgileri = {\"ayşe yılmaz\":\"479621\",\n",
    "                    \"mine sönmez\":\"851743\",\n",
    "                    \"emir alpay\":\"743266\",\n",
    "                    \"sevim kara\":\"154798\"}\n",
    "\n",
    "isim = input(\"Müşteri numarasını öğrenmek istediğiniz kişinin ismini giriniz: \")\n",
    "\n",
    "print(\"{} isimli kişinin müşteri numarası: {}\".format(isim,musteri_bilgileri.get(isim)))"
   ]
  },
  {
   "cell_type": "code",
   "execution_count": 69,
   "id": "2eafa244",
   "metadata": {},
   "outputs": [
    {
     "name": "stdout",
     "output_type": "stream",
     "text": [
      "Müşterinin ismini giriniz: mine sönmez\n",
      "mine sönmez isimli kişinin bilgileri: {'Müşteri numarası': '851743', 'Şehir': 'Ankara', 'Yaş': 24, 'Meslek': 'Hemşire'}\n"
     ]
    }
   ],
   "source": [
    "musteri_bilgileri = {\"ayşe yılmaz\":{\"Müşteri numarası\":\"479621\",\n",
    "                                    \"Şehir\":\"İstanbul\",\n",
    "                                    \"Yaş\":36,\n",
    "                                    \"Meslek\":\"Öğretmen\"},\n",
    "                     \n",
    "                    \"mine sönmez\":{\"Müşteri numarası\":\"851743\",\n",
    "                                   \"Şehir\":\"Ankara\",\n",
    "                                   \"Yaş\":24,\n",
    "                                   \"Meslek\":\"Hemşire\"},\n",
    "                     \n",
    "                    \"emir alpay\":{\"Müşteri numarası\":\"743266\",\n",
    "                                  \"Şehir\":\"Bursa\",\n",
    "                                  \"Yaş\":27,\n",
    "                                  \"Meslek\":\"Mühendis\"},\n",
    "                     \n",
    "                    \"sevim kara\":{\"Müşteri numarası\":\"154798\",\n",
    "                                  \"Şehir\":\"İzmir\",\n",
    "                                  \"Yaş\":21,\n",
    "                                  \"Meslek\":\"Öğrenci\"}}\n",
    "\n",
    "isim = input(\"Müşterinin ismini giriniz: \")\n",
    "\n",
    "print(\"{} isimli kişinin bilgileri: {}\".format(isim, musteri_bilgileri.get(isim,\"Girilen isimde müşteri yoktur!!\")))"
   ]
  },
  {
   "cell_type": "code",
   "execution_count": null,
   "id": "8cb4b72b",
   "metadata": {},
   "outputs": [],
   "source": []
  }
 ],
 "metadata": {
  "kernelspec": {
   "display_name": "Python 3 (ipykernel)",
   "language": "python",
   "name": "python3"
  },
  "language_info": {
   "codemirror_mode": {
    "name": "ipython",
    "version": 3
   },
   "file_extension": ".py",
   "mimetype": "text/x-python",
   "name": "python",
   "nbconvert_exporter": "python",
   "pygments_lexer": "ipython3",
   "version": "3.9.13"
  }
 },
 "nbformat": 4,
 "nbformat_minor": 5
}
